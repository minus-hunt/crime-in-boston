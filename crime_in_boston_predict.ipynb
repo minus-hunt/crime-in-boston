{
 "cells": [
  {
   "cell_type": "markdown",
   "metadata": {},
   "source": [
    "# Преступность в Бостоне"
   ]
  },
  {
   "cell_type": "markdown",
   "metadata": {},
   "source": [
    "В данной работе будет подробно разобран датасет в котором содержится информация о приступлених сделанных в бостоне, записанных начиная с 15 июня 2015 года по 3 сентября 2018 года. Это набор данных, содержащий записи из новой системы отчетов о преступлениях, которая включает сокращенный набор полей, ориентированных на регистрацию типа инцидента, а также времени и места его возникновения."
   ]
  },
  {
   "cell_type": "markdown",
   "metadata": {},
   "source": [
    "## Импорт и предобработка\n",
    "Для начала импортируем данные и предобработаем их"
   ]
  },
  {
   "cell_type": "code",
   "execution_count": 1,
   "metadata": {},
   "outputs": [],
   "source": [
    "import pandas as pd"
   ]
  },
  {
   "cell_type": "markdown",
   "metadata": {},
   "source": [
    "В стартовом сете есть два `csv` файла. Загрузи их как объект датафрейм и назовем соответствующе."
   ]
  },
  {
   "cell_type": "code",
   "execution_count": 2,
   "metadata": {},
   "outputs": [],
   "source": [
    "crime_df = pd.read_csv(\"data/crime.csv\",  encoding= \"unicode_escape\")\n",
    "offense_codes_df = pd.read_csv(\"data/offense_codes.csv\",  encoding= \"unicode_escape\")"
   ]
  },
  {
   "cell_type": "code",
   "execution_count": 3,
   "metadata": {
    "scrolled": false
   },
   "outputs": [
    {
     "data": {
      "text/html": [
       "<div>\n",
       "<style scoped>\n",
       "    .dataframe tbody tr th:only-of-type {\n",
       "        vertical-align: middle;\n",
       "    }\n",
       "\n",
       "    .dataframe tbody tr th {\n",
       "        vertical-align: top;\n",
       "    }\n",
       "\n",
       "    .dataframe thead th {\n",
       "        text-align: right;\n",
       "    }\n",
       "</style>\n",
       "<table border=\"1\" class=\"dataframe\">\n",
       "  <thead>\n",
       "    <tr style=\"text-align: right;\">\n",
       "      <th></th>\n",
       "      <th>INCIDENT_NUMBER</th>\n",
       "      <th>OFFENSE_CODE</th>\n",
       "      <th>OFFENSE_CODE_GROUP</th>\n",
       "      <th>OFFENSE_DESCRIPTION</th>\n",
       "      <th>DISTRICT</th>\n",
       "      <th>REPORTING_AREA</th>\n",
       "      <th>SHOOTING</th>\n",
       "      <th>OCCURRED_ON_DATE</th>\n",
       "      <th>YEAR</th>\n",
       "      <th>MONTH</th>\n",
       "      <th>DAY_OF_WEEK</th>\n",
       "      <th>HOUR</th>\n",
       "      <th>UCR_PART</th>\n",
       "      <th>STREET</th>\n",
       "      <th>Lat</th>\n",
       "      <th>Long</th>\n",
       "      <th>Location</th>\n",
       "    </tr>\n",
       "  </thead>\n",
       "  <tbody>\n",
       "    <tr>\n",
       "      <th>0</th>\n",
       "      <td>I182070945</td>\n",
       "      <td>619</td>\n",
       "      <td>Larceny</td>\n",
       "      <td>LARCENY ALL OTHERS</td>\n",
       "      <td>D14</td>\n",
       "      <td>808</td>\n",
       "      <td>NaN</td>\n",
       "      <td>2018-09-02 13:00:00</td>\n",
       "      <td>2018</td>\n",
       "      <td>9</td>\n",
       "      <td>Sunday</td>\n",
       "      <td>13</td>\n",
       "      <td>Part One</td>\n",
       "      <td>LINCOLN ST</td>\n",
       "      <td>42.357791</td>\n",
       "      <td>-71.139371</td>\n",
       "      <td>(42.35779134, -71.13937053)</td>\n",
       "    </tr>\n",
       "    <tr>\n",
       "      <th>1</th>\n",
       "      <td>I182070943</td>\n",
       "      <td>1402</td>\n",
       "      <td>Vandalism</td>\n",
       "      <td>VANDALISM</td>\n",
       "      <td>C11</td>\n",
       "      <td>347</td>\n",
       "      <td>NaN</td>\n",
       "      <td>2018-08-21 00:00:00</td>\n",
       "      <td>2018</td>\n",
       "      <td>8</td>\n",
       "      <td>Tuesday</td>\n",
       "      <td>0</td>\n",
       "      <td>Part Two</td>\n",
       "      <td>HECLA ST</td>\n",
       "      <td>42.306821</td>\n",
       "      <td>-71.060300</td>\n",
       "      <td>(42.30682138, -71.06030035)</td>\n",
       "    </tr>\n",
       "    <tr>\n",
       "      <th>2</th>\n",
       "      <td>I182070941</td>\n",
       "      <td>3410</td>\n",
       "      <td>Towed</td>\n",
       "      <td>TOWED MOTOR VEHICLE</td>\n",
       "      <td>D4</td>\n",
       "      <td>151</td>\n",
       "      <td>NaN</td>\n",
       "      <td>2018-09-03 19:27:00</td>\n",
       "      <td>2018</td>\n",
       "      <td>9</td>\n",
       "      <td>Monday</td>\n",
       "      <td>19</td>\n",
       "      <td>Part Three</td>\n",
       "      <td>CAZENOVE ST</td>\n",
       "      <td>42.346589</td>\n",
       "      <td>-71.072429</td>\n",
       "      <td>(42.34658879, -71.07242943)</td>\n",
       "    </tr>\n",
       "    <tr>\n",
       "      <th>3</th>\n",
       "      <td>I182070940</td>\n",
       "      <td>3114</td>\n",
       "      <td>Investigate Property</td>\n",
       "      <td>INVESTIGATE PROPERTY</td>\n",
       "      <td>D4</td>\n",
       "      <td>272</td>\n",
       "      <td>NaN</td>\n",
       "      <td>2018-09-03 21:16:00</td>\n",
       "      <td>2018</td>\n",
       "      <td>9</td>\n",
       "      <td>Monday</td>\n",
       "      <td>21</td>\n",
       "      <td>Part Three</td>\n",
       "      <td>NEWCOMB ST</td>\n",
       "      <td>42.334182</td>\n",
       "      <td>-71.078664</td>\n",
       "      <td>(42.33418175, -71.07866441)</td>\n",
       "    </tr>\n",
       "    <tr>\n",
       "      <th>4</th>\n",
       "      <td>I182070938</td>\n",
       "      <td>3114</td>\n",
       "      <td>Investigate Property</td>\n",
       "      <td>INVESTIGATE PROPERTY</td>\n",
       "      <td>B3</td>\n",
       "      <td>421</td>\n",
       "      <td>NaN</td>\n",
       "      <td>2018-09-03 21:05:00</td>\n",
       "      <td>2018</td>\n",
       "      <td>9</td>\n",
       "      <td>Monday</td>\n",
       "      <td>21</td>\n",
       "      <td>Part Three</td>\n",
       "      <td>DELHI ST</td>\n",
       "      <td>42.275365</td>\n",
       "      <td>-71.090361</td>\n",
       "      <td>(42.27536542, -71.09036101)</td>\n",
       "    </tr>\n",
       "  </tbody>\n",
       "</table>\n",
       "</div>"
      ],
      "text/plain": [
       "  INCIDENT_NUMBER  OFFENSE_CODE    OFFENSE_CODE_GROUP   OFFENSE_DESCRIPTION  \\\n",
       "0      I182070945           619               Larceny    LARCENY ALL OTHERS   \n",
       "1      I182070943          1402             Vandalism             VANDALISM   \n",
       "2      I182070941          3410                 Towed   TOWED MOTOR VEHICLE   \n",
       "3      I182070940          3114  Investigate Property  INVESTIGATE PROPERTY   \n",
       "4      I182070938          3114  Investigate Property  INVESTIGATE PROPERTY   \n",
       "\n",
       "  DISTRICT REPORTING_AREA SHOOTING     OCCURRED_ON_DATE  YEAR  MONTH  \\\n",
       "0      D14            808      NaN  2018-09-02 13:00:00  2018      9   \n",
       "1      C11            347      NaN  2018-08-21 00:00:00  2018      8   \n",
       "2       D4            151      NaN  2018-09-03 19:27:00  2018      9   \n",
       "3       D4            272      NaN  2018-09-03 21:16:00  2018      9   \n",
       "4       B3            421      NaN  2018-09-03 21:05:00  2018      9   \n",
       "\n",
       "  DAY_OF_WEEK  HOUR    UCR_PART       STREET        Lat       Long  \\\n",
       "0      Sunday    13    Part One   LINCOLN ST  42.357791 -71.139371   \n",
       "1     Tuesday     0    Part Two     HECLA ST  42.306821 -71.060300   \n",
       "2      Monday    19  Part Three  CAZENOVE ST  42.346589 -71.072429   \n",
       "3      Monday    21  Part Three   NEWCOMB ST  42.334182 -71.078664   \n",
       "4      Monday    21  Part Three     DELHI ST  42.275365 -71.090361   \n",
       "\n",
       "                      Location  \n",
       "0  (42.35779134, -71.13937053)  \n",
       "1  (42.30682138, -71.06030035)  \n",
       "2  (42.34658879, -71.07242943)  \n",
       "3  (42.33418175, -71.07866441)  \n",
       "4  (42.27536542, -71.09036101)  "
      ]
     },
     "execution_count": 3,
     "metadata": {},
     "output_type": "execute_result"
    }
   ],
   "source": [
    "crime_df.head()"
   ]
  },
  {
   "cell_type": "code",
   "execution_count": 4,
   "metadata": {},
   "outputs": [
    {
     "name": "stdout",
     "output_type": "stream",
     "text": [
      "<class 'pandas.core.frame.DataFrame'>\n",
      "RangeIndex: 319073 entries, 0 to 319072\n",
      "Data columns (total 17 columns):\n",
      " #   Column               Non-Null Count   Dtype  \n",
      "---  ------               --------------   -----  \n",
      " 0   INCIDENT_NUMBER      319073 non-null  object \n",
      " 1   OFFENSE_CODE         319073 non-null  int64  \n",
      " 2   OFFENSE_CODE_GROUP   319073 non-null  object \n",
      " 3   OFFENSE_DESCRIPTION  319073 non-null  object \n",
      " 4   DISTRICT             317308 non-null  object \n",
      " 5   REPORTING_AREA       319073 non-null  object \n",
      " 6   SHOOTING             1019 non-null    object \n",
      " 7   OCCURRED_ON_DATE     319073 non-null  object \n",
      " 8   YEAR                 319073 non-null  int64  \n",
      " 9   MONTH                319073 non-null  int64  \n",
      " 10  DAY_OF_WEEK          319073 non-null  object \n",
      " 11  HOUR                 319073 non-null  int64  \n",
      " 12  UCR_PART             318983 non-null  object \n",
      " 13  STREET               308202 non-null  object \n",
      " 14  Lat                  299074 non-null  float64\n",
      " 15  Long                 299074 non-null  float64\n",
      " 16  Location             319073 non-null  object \n",
      "dtypes: float64(2), int64(4), object(11)\n",
      "memory usage: 41.4+ MB\n"
     ]
    }
   ],
   "source": [
    "crime_df.info()"
   ]
  },
  {
   "cell_type": "code",
   "execution_count": 5,
   "metadata": {},
   "outputs": [
    {
     "data": {
      "text/html": [
       "<div>\n",
       "<style scoped>\n",
       "    .dataframe tbody tr th:only-of-type {\n",
       "        vertical-align: middle;\n",
       "    }\n",
       "\n",
       "    .dataframe tbody tr th {\n",
       "        vertical-align: top;\n",
       "    }\n",
       "\n",
       "    .dataframe thead th {\n",
       "        text-align: right;\n",
       "    }\n",
       "</style>\n",
       "<table border=\"1\" class=\"dataframe\">\n",
       "  <thead>\n",
       "    <tr style=\"text-align: right;\">\n",
       "      <th></th>\n",
       "      <th>CODE</th>\n",
       "      <th>NAME</th>\n",
       "    </tr>\n",
       "  </thead>\n",
       "  <tbody>\n",
       "    <tr>\n",
       "      <th>0</th>\n",
       "      <td>612</td>\n",
       "      <td>LARCENY PURSE SNATCH - NO FORCE</td>\n",
       "    </tr>\n",
       "    <tr>\n",
       "      <th>1</th>\n",
       "      <td>613</td>\n",
       "      <td>LARCENY SHOPLIFTING</td>\n",
       "    </tr>\n",
       "    <tr>\n",
       "      <th>2</th>\n",
       "      <td>615</td>\n",
       "      <td>LARCENY THEFT OF MV PARTS &amp; ACCESSORIES</td>\n",
       "    </tr>\n",
       "    <tr>\n",
       "      <th>3</th>\n",
       "      <td>1731</td>\n",
       "      <td>INCEST</td>\n",
       "    </tr>\n",
       "    <tr>\n",
       "      <th>4</th>\n",
       "      <td>3111</td>\n",
       "      <td>LICENSE PREMISE VIOLATION</td>\n",
       "    </tr>\n",
       "    <tr>\n",
       "      <th>...</th>\n",
       "      <td>...</td>\n",
       "      <td>...</td>\n",
       "    </tr>\n",
       "    <tr>\n",
       "      <th>571</th>\n",
       "      <td>1806</td>\n",
       "      <td>DRUGS - CLASS B TRAFFICKING OVER 18 GRAMS</td>\n",
       "    </tr>\n",
       "    <tr>\n",
       "      <th>572</th>\n",
       "      <td>1807</td>\n",
       "      <td>DRUGS - CLASS D TRAFFICKING OVER 50 GRAMS</td>\n",
       "    </tr>\n",
       "    <tr>\n",
       "      <th>573</th>\n",
       "      <td>1610</td>\n",
       "      <td>HUMAN TRAFFICKING - COMMERCIAL SEX ACTS</td>\n",
       "    </tr>\n",
       "    <tr>\n",
       "      <th>574</th>\n",
       "      <td>2010</td>\n",
       "      <td>HOME INVASION</td>\n",
       "    </tr>\n",
       "    <tr>\n",
       "      <th>575</th>\n",
       "      <td>1620</td>\n",
       "      <td>HUMAN TRAFFICKING - INVOLUNTARY SERVITUDE</td>\n",
       "    </tr>\n",
       "  </tbody>\n",
       "</table>\n",
       "<p>576 rows × 2 columns</p>\n",
       "</div>"
      ],
      "text/plain": [
       "     CODE                                       NAME\n",
       "0     612           LARCENY PURSE SNATCH - NO FORCE \n",
       "1     613                        LARCENY SHOPLIFTING\n",
       "2     615    LARCENY THEFT OF MV PARTS & ACCESSORIES\n",
       "3    1731                                     INCEST\n",
       "4    3111                  LICENSE PREMISE VIOLATION\n",
       "..    ...                                        ...\n",
       "571  1806  DRUGS - CLASS B TRAFFICKING OVER 18 GRAMS\n",
       "572  1807  DRUGS - CLASS D TRAFFICKING OVER 50 GRAMS\n",
       "573  1610    HUMAN TRAFFICKING - COMMERCIAL SEX ACTS\n",
       "574  2010                              HOME INVASION\n",
       "575  1620  HUMAN TRAFFICKING - INVOLUNTARY SERVITUDE\n",
       "\n",
       "[576 rows x 2 columns]"
      ]
     },
     "execution_count": 5,
     "metadata": {},
     "output_type": "execute_result"
    }
   ],
   "source": [
    "offense_codes_df"
   ]
  },
  {
   "cell_type": "code",
   "execution_count": 6,
   "metadata": {},
   "outputs": [
    {
     "name": "stdout",
     "output_type": "stream",
     "text": [
      "<class 'pandas.core.frame.DataFrame'>\n",
      "RangeIndex: 576 entries, 0 to 575\n",
      "Data columns (total 2 columns):\n",
      " #   Column  Non-Null Count  Dtype \n",
      "---  ------  --------------  ----- \n",
      " 0   CODE    576 non-null    int64 \n",
      " 1   NAME    576 non-null    object\n",
      "dtypes: int64(1), object(1)\n",
      "memory usage: 9.1+ KB\n"
     ]
    }
   ],
   "source": [
    "offense_codes_df.info()"
   ]
  },
  {
   "cell_type": "markdown",
   "metadata": {},
   "source": [
    "#### Удаление ненужных столбцов\n",
    "Сразу можно сказать то, что предсказывать мы будем вид преступления. Из этого следует сделать вывод, что целевой переменной у нас будет столбец `offense_code`. Тогда определим какие столбцы не влияют на нашу целевую переменную и удалим их."
   ]
  },
  {
   "cell_type": "code",
   "execution_count": 7,
   "metadata": {},
   "outputs": [],
   "source": [
    "crime_df = crime_df.drop(columns=[\"INCIDENT_NUMBER\", \"OFFENSE_CODE_GROUP\", \"OFFENSE_DESCRIPTION\", \"OCCURRED_ON_DATE\", \"Location\"], axis=1)"
   ]
  },
  {
   "cell_type": "code",
   "execution_count": 8,
   "metadata": {},
   "outputs": [
    {
     "data": {
      "text/html": [
       "<div>\n",
       "<style scoped>\n",
       "    .dataframe tbody tr th:only-of-type {\n",
       "        vertical-align: middle;\n",
       "    }\n",
       "\n",
       "    .dataframe tbody tr th {\n",
       "        vertical-align: top;\n",
       "    }\n",
       "\n",
       "    .dataframe thead th {\n",
       "        text-align: right;\n",
       "    }\n",
       "</style>\n",
       "<table border=\"1\" class=\"dataframe\">\n",
       "  <thead>\n",
       "    <tr style=\"text-align: right;\">\n",
       "      <th></th>\n",
       "      <th>OFFENSE_CODE</th>\n",
       "      <th>DISTRICT</th>\n",
       "      <th>REPORTING_AREA</th>\n",
       "      <th>SHOOTING</th>\n",
       "      <th>YEAR</th>\n",
       "      <th>MONTH</th>\n",
       "      <th>DAY_OF_WEEK</th>\n",
       "      <th>HOUR</th>\n",
       "      <th>UCR_PART</th>\n",
       "      <th>STREET</th>\n",
       "      <th>Lat</th>\n",
       "      <th>Long</th>\n",
       "    </tr>\n",
       "  </thead>\n",
       "  <tbody>\n",
       "    <tr>\n",
       "      <th>0</th>\n",
       "      <td>619</td>\n",
       "      <td>D14</td>\n",
       "      <td>808</td>\n",
       "      <td>NaN</td>\n",
       "      <td>2018</td>\n",
       "      <td>9</td>\n",
       "      <td>Sunday</td>\n",
       "      <td>13</td>\n",
       "      <td>Part One</td>\n",
       "      <td>LINCOLN ST</td>\n",
       "      <td>42.357791</td>\n",
       "      <td>-71.139371</td>\n",
       "    </tr>\n",
       "    <tr>\n",
       "      <th>1</th>\n",
       "      <td>1402</td>\n",
       "      <td>C11</td>\n",
       "      <td>347</td>\n",
       "      <td>NaN</td>\n",
       "      <td>2018</td>\n",
       "      <td>8</td>\n",
       "      <td>Tuesday</td>\n",
       "      <td>0</td>\n",
       "      <td>Part Two</td>\n",
       "      <td>HECLA ST</td>\n",
       "      <td>42.306821</td>\n",
       "      <td>-71.060300</td>\n",
       "    </tr>\n",
       "    <tr>\n",
       "      <th>2</th>\n",
       "      <td>3410</td>\n",
       "      <td>D4</td>\n",
       "      <td>151</td>\n",
       "      <td>NaN</td>\n",
       "      <td>2018</td>\n",
       "      <td>9</td>\n",
       "      <td>Monday</td>\n",
       "      <td>19</td>\n",
       "      <td>Part Three</td>\n",
       "      <td>CAZENOVE ST</td>\n",
       "      <td>42.346589</td>\n",
       "      <td>-71.072429</td>\n",
       "    </tr>\n",
       "    <tr>\n",
       "      <th>3</th>\n",
       "      <td>3114</td>\n",
       "      <td>D4</td>\n",
       "      <td>272</td>\n",
       "      <td>NaN</td>\n",
       "      <td>2018</td>\n",
       "      <td>9</td>\n",
       "      <td>Monday</td>\n",
       "      <td>21</td>\n",
       "      <td>Part Three</td>\n",
       "      <td>NEWCOMB ST</td>\n",
       "      <td>42.334182</td>\n",
       "      <td>-71.078664</td>\n",
       "    </tr>\n",
       "    <tr>\n",
       "      <th>4</th>\n",
       "      <td>3114</td>\n",
       "      <td>B3</td>\n",
       "      <td>421</td>\n",
       "      <td>NaN</td>\n",
       "      <td>2018</td>\n",
       "      <td>9</td>\n",
       "      <td>Monday</td>\n",
       "      <td>21</td>\n",
       "      <td>Part Three</td>\n",
       "      <td>DELHI ST</td>\n",
       "      <td>42.275365</td>\n",
       "      <td>-71.090361</td>\n",
       "    </tr>\n",
       "  </tbody>\n",
       "</table>\n",
       "</div>"
      ],
      "text/plain": [
       "   OFFENSE_CODE DISTRICT REPORTING_AREA SHOOTING  YEAR  MONTH DAY_OF_WEEK  \\\n",
       "0           619      D14            808      NaN  2018      9      Sunday   \n",
       "1          1402      C11            347      NaN  2018      8     Tuesday   \n",
       "2          3410       D4            151      NaN  2018      9      Monday   \n",
       "3          3114       D4            272      NaN  2018      9      Monday   \n",
       "4          3114       B3            421      NaN  2018      9      Monday   \n",
       "\n",
       "   HOUR    UCR_PART       STREET        Lat       Long  \n",
       "0    13    Part One   LINCOLN ST  42.357791 -71.139371  \n",
       "1     0    Part Two     HECLA ST  42.306821 -71.060300  \n",
       "2    19  Part Three  CAZENOVE ST  42.346589 -71.072429  \n",
       "3    21  Part Three   NEWCOMB ST  42.334182 -71.078664  \n",
       "4    21  Part Three     DELHI ST  42.275365 -71.090361  "
      ]
     },
     "execution_count": 8,
     "metadata": {},
     "output_type": "execute_result"
    }
   ],
   "source": [
    "crime_df.head()"
   ]
  },
  {
   "cell_type": "code",
   "execution_count": 9,
   "metadata": {},
   "outputs": [
    {
     "name": "stdout",
     "output_type": "stream",
     "text": [
      "<class 'pandas.core.frame.DataFrame'>\n",
      "RangeIndex: 319073 entries, 0 to 319072\n",
      "Data columns (total 12 columns):\n",
      " #   Column          Non-Null Count   Dtype  \n",
      "---  ------          --------------   -----  \n",
      " 0   OFFENSE_CODE    319073 non-null  int64  \n",
      " 1   DISTRICT        317308 non-null  object \n",
      " 2   REPORTING_AREA  319073 non-null  object \n",
      " 3   SHOOTING        1019 non-null    object \n",
      " 4   YEAR            319073 non-null  int64  \n",
      " 5   MONTH           319073 non-null  int64  \n",
      " 6   DAY_OF_WEEK     319073 non-null  object \n",
      " 7   HOUR            319073 non-null  int64  \n",
      " 8   UCR_PART        318983 non-null  object \n",
      " 9   STREET          308202 non-null  object \n",
      " 10  Lat             299074 non-null  float64\n",
      " 11  Long            299074 non-null  float64\n",
      "dtypes: float64(2), int64(4), object(6)\n",
      "memory usage: 29.2+ MB\n"
     ]
    }
   ],
   "source": [
    "crime_df.info()"
   ]
  },
  {
   "cell_type": "markdown",
   "metadata": {},
   "source": [
    "#### Работа со значениями `NaN`"
   ]
  },
  {
   "cell_type": "markdown",
   "metadata": {},
   "source": [
    "Первый столбец который привлекает внимание это `SHOOTING`, посмотрим какие значения содержатся в нем не `NaN`"
   ]
  },
  {
   "cell_type": "code",
   "execution_count": 10,
   "metadata": {},
   "outputs": [
    {
     "data": {
      "text/plain": [
       "Y    1019\n",
       "Name: SHOOTING, dtype: int64"
      ]
     },
     "execution_count": 10,
     "metadata": {},
     "output_type": "execute_result"
    }
   ],
   "source": [
    "crime_df[\"SHOOTING\"].value_counts()"
   ]
  },
  {
   "cell_type": "markdown",
   "metadata": {},
   "source": [
    "Как видно целесообразно заполнить пустые значения значением `N` и затем разбить это на `1` и `0`."
   ]
  },
  {
   "cell_type": "code",
   "execution_count": 11,
   "metadata": {},
   "outputs": [],
   "source": [
    "crime_df[\"SHOOTING\"] = crime_df[\"SHOOTING\"].fillna(\"N\")"
   ]
  },
  {
   "cell_type": "code",
   "execution_count": 12,
   "metadata": {},
   "outputs": [
    {
     "data": {
      "text/plain": [
       "N    318054\n",
       "Y      1019\n",
       "Name: SHOOTING, dtype: int64"
      ]
     },
     "execution_count": 12,
     "metadata": {},
     "output_type": "execute_result"
    }
   ],
   "source": [
    "crime_df[\"SHOOTING\"].value_counts()"
   ]
  },
  {
   "cell_type": "code",
   "execution_count": 13,
   "metadata": {},
   "outputs": [],
   "source": [
    "from sklearn.preprocessing import LabelEncoder # импортируем необходимый для этого модуль\n",
    "le = LabelEncoder() # создадим экземпляп\n",
    "crime_df[\"SHOOTING\"] = le.fit_transform(crime_df[\"SHOOTING\"])"
   ]
  },
  {
   "cell_type": "code",
   "execution_count": 14,
   "metadata": {},
   "outputs": [
    {
     "data": {
      "text/plain": [
       "0    318054\n",
       "1      1019\n",
       "Name: SHOOTING, dtype: int64"
      ]
     },
     "execution_count": 14,
     "metadata": {},
     "output_type": "execute_result"
    }
   ],
   "source": [
    "crime_df[\"SHOOTING\"].value_counts()"
   ]
  },
  {
   "cell_type": "markdown",
   "metadata": {},
   "source": [
    "Как видим у нас получилось. Далее же заполним пустые значения в других столюцах."
   ]
  },
  {
   "cell_type": "code",
   "execution_count": 15,
   "metadata": {},
   "outputs": [],
   "source": [
    "# fillna() - заполнение заданным значением\n",
    "crime_df[\"DISTRICT\"] = crime_df[\"DISTRICT\"].fillna(\"A0\")\n",
    "crime_df[\"UCR_PART\"] = crime_df[\"UCR_PART\"].fillna(\"Other\")\n",
    "crime_df[\"STREET\"] = crime_df[\"STREET\"].fillna(\"undefined\")\n",
    "crime_df[\"Lat\"] = crime_df[\"Lat\"].fillna(crime_df[\"Lat\"].median())\n",
    "crime_df[\"Long\"] = crime_df[\"Long\"].fillna(crime_df[\"Long\"].median())"
   ]
  },
  {
   "cell_type": "code",
   "execution_count": 16,
   "metadata": {},
   "outputs": [
    {
     "name": "stdout",
     "output_type": "stream",
     "text": [
      "<class 'pandas.core.frame.DataFrame'>\n",
      "RangeIndex: 319073 entries, 0 to 319072\n",
      "Data columns (total 12 columns):\n",
      " #   Column          Non-Null Count   Dtype  \n",
      "---  ------          --------------   -----  \n",
      " 0   OFFENSE_CODE    319073 non-null  int64  \n",
      " 1   DISTRICT        319073 non-null  object \n",
      " 2   REPORTING_AREA  319073 non-null  object \n",
      " 3   SHOOTING        319073 non-null  int32  \n",
      " 4   YEAR            319073 non-null  int64  \n",
      " 5   MONTH           319073 non-null  int64  \n",
      " 6   DAY_OF_WEEK     319073 non-null  object \n",
      " 7   HOUR            319073 non-null  int64  \n",
      " 8   UCR_PART        319073 non-null  object \n",
      " 9   STREET          319073 non-null  object \n",
      " 10  Lat             319073 non-null  float64\n",
      " 11  Long            319073 non-null  float64\n",
      "dtypes: float64(2), int32(1), int64(4), object(5)\n",
      "memory usage: 28.0+ MB\n"
     ]
    }
   ],
   "source": [
    "crime_df.info()"
   ]
  },
  {
   "cell_type": "markdown",
   "metadata": {},
   "source": [
    "Далее когда все пустые значения откорректированны небходимо привести столбцы типа `object` к целочисленному типу. С помощью `LabelEncoder` присвоем код к значению в столбцах."
   ]
  },
  {
   "cell_type": "code",
   "execution_count": 18,
   "metadata": {},
   "outputs": [],
   "source": [
    "# работа с ранее созданным экземпляром класса le\n",
    "crime_df[\"DISTRICT\"] = le.fit_transform(crime_df[\"DISTRICT\"])\n",
    "crime_df[\"REPORTING_AREA\"] = le.fit_transform(crime_df[\"REPORTING_AREA\"])\n",
    "crime_df[\"DAY_OF_WEEK\"] = le.fit_transform(crime_df[\"DAY_OF_WEEK\"])\n",
    "crime_df[\"UCR_PART\"] = le.fit_transform(crime_df[\"UCR_PART\"])\n",
    "crime_df[\"STREET\"] = le.fit_transform(crime_df[\"STREET\"])"
   ]
  },
  {
   "cell_type": "code",
   "execution_count": 19,
   "metadata": {},
   "outputs": [
    {
     "data": {
      "text/html": [
       "<div>\n",
       "<style scoped>\n",
       "    .dataframe tbody tr th:only-of-type {\n",
       "        vertical-align: middle;\n",
       "    }\n",
       "\n",
       "    .dataframe tbody tr th {\n",
       "        vertical-align: top;\n",
       "    }\n",
       "\n",
       "    .dataframe thead th {\n",
       "        text-align: right;\n",
       "    }\n",
       "</style>\n",
       "<table border=\"1\" class=\"dataframe\">\n",
       "  <thead>\n",
       "    <tr style=\"text-align: right;\">\n",
       "      <th></th>\n",
       "      <th>OFFENSE_CODE</th>\n",
       "      <th>DISTRICT</th>\n",
       "      <th>REPORTING_AREA</th>\n",
       "      <th>SHOOTING</th>\n",
       "      <th>YEAR</th>\n",
       "      <th>MONTH</th>\n",
       "      <th>DAY_OF_WEEK</th>\n",
       "      <th>HOUR</th>\n",
       "      <th>UCR_PART</th>\n",
       "      <th>STREET</th>\n",
       "      <th>Lat</th>\n",
       "      <th>Long</th>\n",
       "    </tr>\n",
       "  </thead>\n",
       "  <tbody>\n",
       "    <tr>\n",
       "      <th>0</th>\n",
       "      <td>619</td>\n",
       "      <td>8</td>\n",
       "      <td>784</td>\n",
       "      <td>0</td>\n",
       "      <td>2018</td>\n",
       "      <td>9</td>\n",
       "      <td>3</td>\n",
       "      <td>13</td>\n",
       "      <td>1</td>\n",
       "      <td>2535</td>\n",
       "      <td>42.357791</td>\n",
       "      <td>-71.139371</td>\n",
       "    </tr>\n",
       "    <tr>\n",
       "      <th>1</th>\n",
       "      <td>1402</td>\n",
       "      <td>6</td>\n",
       "      <td>275</td>\n",
       "      <td>0</td>\n",
       "      <td>2018</td>\n",
       "      <td>8</td>\n",
       "      <td>5</td>\n",
       "      <td>0</td>\n",
       "      <td>3</td>\n",
       "      <td>2073</td>\n",
       "      <td>42.306821</td>\n",
       "      <td>-71.060300</td>\n",
       "    </tr>\n",
       "    <tr>\n",
       "      <th>2</th>\n",
       "      <td>3410</td>\n",
       "      <td>9</td>\n",
       "      <td>60</td>\n",
       "      <td>0</td>\n",
       "      <td>2018</td>\n",
       "      <td>9</td>\n",
       "      <td>1</td>\n",
       "      <td>19</td>\n",
       "      <td>2</td>\n",
       "      <td>784</td>\n",
       "      <td>42.346589</td>\n",
       "      <td>-71.072429</td>\n",
       "    </tr>\n",
       "    <tr>\n",
       "      <th>3</th>\n",
       "      <td>3114</td>\n",
       "      <td>9</td>\n",
       "      <td>192</td>\n",
       "      <td>0</td>\n",
       "      <td>2018</td>\n",
       "      <td>9</td>\n",
       "      <td>1</td>\n",
       "      <td>21</td>\n",
       "      <td>2</td>\n",
       "      <td>3065</td>\n",
       "      <td>42.334182</td>\n",
       "      <td>-71.078664</td>\n",
       "    </tr>\n",
       "    <tr>\n",
       "      <th>4</th>\n",
       "      <td>3114</td>\n",
       "      <td>5</td>\n",
       "      <td>357</td>\n",
       "      <td>0</td>\n",
       "      <td>2018</td>\n",
       "      <td>9</td>\n",
       "      <td>1</td>\n",
       "      <td>21</td>\n",
       "      <td>2</td>\n",
       "      <td>1240</td>\n",
       "      <td>42.275365</td>\n",
       "      <td>-71.090361</td>\n",
       "    </tr>\n",
       "  </tbody>\n",
       "</table>\n",
       "</div>"
      ],
      "text/plain": [
       "   OFFENSE_CODE  DISTRICT  REPORTING_AREA  SHOOTING  YEAR  MONTH  DAY_OF_WEEK  \\\n",
       "0           619         8             784         0  2018      9            3   \n",
       "1          1402         6             275         0  2018      8            5   \n",
       "2          3410         9              60         0  2018      9            1   \n",
       "3          3114         9             192         0  2018      9            1   \n",
       "4          3114         5             357         0  2018      9            1   \n",
       "\n",
       "   HOUR  UCR_PART  STREET        Lat       Long  \n",
       "0    13         1    2535  42.357791 -71.139371  \n",
       "1     0         3    2073  42.306821 -71.060300  \n",
       "2    19         2     784  42.346589 -71.072429  \n",
       "3    21         2    3065  42.334182 -71.078664  \n",
       "4    21         2    1240  42.275365 -71.090361  "
      ]
     },
     "execution_count": 19,
     "metadata": {},
     "output_type": "execute_result"
    }
   ],
   "source": [
    "crime_df.head()"
   ]
  },
  {
   "cell_type": "code",
   "execution_count": 20,
   "metadata": {},
   "outputs": [
    {
     "name": "stdout",
     "output_type": "stream",
     "text": [
      "<class 'pandas.core.frame.DataFrame'>\n",
      "RangeIndex: 319073 entries, 0 to 319072\n",
      "Data columns (total 12 columns):\n",
      " #   Column          Non-Null Count   Dtype  \n",
      "---  ------          --------------   -----  \n",
      " 0   OFFENSE_CODE    319073 non-null  int64  \n",
      " 1   DISTRICT        319073 non-null  int32  \n",
      " 2   REPORTING_AREA  319073 non-null  int32  \n",
      " 3   SHOOTING        319073 non-null  int32  \n",
      " 4   YEAR            319073 non-null  int64  \n",
      " 5   MONTH           319073 non-null  int64  \n",
      " 6   DAY_OF_WEEK     319073 non-null  int32  \n",
      " 7   HOUR            319073 non-null  int64  \n",
      " 8   UCR_PART        319073 non-null  int32  \n",
      " 9   STREET          319073 non-null  int32  \n",
      " 10  Lat             319073 non-null  float64\n",
      " 11  Long            319073 non-null  float64\n",
      "dtypes: float64(2), int32(6), int64(4)\n",
      "memory usage: 21.9 MB\n"
     ]
    }
   ],
   "source": [
    "crime_df.info()"
   ]
  },
  {
   "cell_type": "markdown",
   "metadata": {},
   "source": [
    "Сделаем небольшие корректировки с целочисленным типом и приведем `int32` к `int64`."
   ]
  },
  {
   "cell_type": "code",
   "execution_count": 32,
   "metadata": {},
   "outputs": [],
   "source": [
    "# Еще откорректируем столбец. Из за того что он содержит просто строки с пробелом при конвертации из int32 в int64 \n",
    "# будет ошибка\n",
    "crime_df[\"REPORTING_AREA\"] = crime_df[\"REPORTING_AREA\"].replace(to_replace=' ', value= None)\n",
    "crime_df[\"REPORTING_AREA\"] = crime_df[\"REPORTING_AREA\"].fillna(crime_df[\"REPORTING_AREA\"].median())"
   ]
  },
  {
   "cell_type": "code",
   "execution_count": 28,
   "metadata": {},
   "outputs": [
    {
     "data": {
      "text/plain": [
       "0      20250\n",
       "16      2372\n",
       "98      2016\n",
       "255     1878\n",
       "22      1832\n",
       "       ...  \n",
       "626       12\n",
       "629       11\n",
       "714        7\n",
       "103        5\n",
       "863        1\n",
       "Name: REPORTING_AREA, Length: 879, dtype: int64"
      ]
     },
     "execution_count": 28,
     "metadata": {},
     "output_type": "execute_result"
    }
   ],
   "source": [
    "crime_df[\"REPORTING_AREA\"].value_counts()"
   ]
  },
  {
   "cell_type": "code",
   "execution_count": 35,
   "metadata": {},
   "outputs": [],
   "source": [
    "# и далее приступим к конвертации\n",
    "crime_df[\"DISTRICT\"] = crime_df[\"DISTRICT\"].astype(\"int64\")\n",
    "crime_df[\"REPORTING_AREA\"] = crime_df[\"REPORTING_AREA\"].astype(\"int64\")\n",
    "crime_df[\"SHOOTING\"] = crime_df[\"SHOOTING\"].astype(\"int64\")\n",
    "crime_df[\"DAY_OF_WEEK\"] = crime_df[\"DAY_OF_WEEK\"].astype(\"int64\")\n",
    "crime_df[\"UCR_PART\"] = crime_df[\"UCR_PART\"].astype(\"int64\")\n",
    "crime_df[\"STREET\"] = crime_df[\"STREET\"].astype(\"int64\")\n"
   ]
  },
  {
   "cell_type": "code",
   "execution_count": 36,
   "metadata": {},
   "outputs": [
    {
     "name": "stdout",
     "output_type": "stream",
     "text": [
      "<class 'pandas.core.frame.DataFrame'>\n",
      "RangeIndex: 319073 entries, 0 to 319072\n",
      "Data columns (total 12 columns):\n",
      " #   Column          Non-Null Count   Dtype  \n",
      "---  ------          --------------   -----  \n",
      " 0   OFFENSE_CODE    319073 non-null  int64  \n",
      " 1   DISTRICT        319073 non-null  int64  \n",
      " 2   REPORTING_AREA  319073 non-null  int64  \n",
      " 3   SHOOTING        319073 non-null  int64  \n",
      " 4   YEAR            319073 non-null  int64  \n",
      " 5   MONTH           319073 non-null  int64  \n",
      " 6   DAY_OF_WEEK     319073 non-null  int64  \n",
      " 7   HOUR            319073 non-null  int64  \n",
      " 8   UCR_PART        319073 non-null  int64  \n",
      " 9   STREET          319073 non-null  int64  \n",
      " 10  Lat             319073 non-null  float64\n",
      " 11  Long            319073 non-null  float64\n",
      "dtypes: float64(2), int64(10)\n",
      "memory usage: 29.2 MB\n"
     ]
    }
   ],
   "source": [
    "crime_df.info()"
   ]
  },
  {
   "cell_type": "markdown",
   "metadata": {},
   "source": [
    "### Вывод по предобработке\n",
    "В данной подчати были импортированны данные, а так же была произведена работа по их предобрабтке. Именно:\n",
    "- Удаление ненужных столбцов\n",
    "- Заполнение значений `NaN`\n",
    "- Все типы столбцов приведены к соответствующему типу"
   ]
  },
  {
   "cell_type": "markdown",
   "metadata": {},
   "source": [
    "## Визуализация данных"
   ]
  },
  {
   "cell_type": "markdown",
   "metadata": {},
   "source": [
    "Для начала импортируем необходимые данные для работы с графиками."
   ]
  },
  {
   "cell_type": "code",
   "execution_count": 37,
   "metadata": {},
   "outputs": [],
   "source": [
    "import seaborn as sns\n",
    "%matplotlib inline\n",
    "import matplotlib.pyplot as plt"
   ]
  },
  {
   "cell_type": "markdown",
   "metadata": {},
   "source": [
    "#### Корреляционая карта\n",
    "Просмотрим с помощью корреляционнй карты взаимодествие наших признаков."
   ]
  },
  {
   "cell_type": "code",
   "execution_count": 39,
   "metadata": {},
   "outputs": [
    {
     "data": {
      "text/plain": [
       "<AxesSubplot:>"
      ]
     },
     "execution_count": 39,
     "metadata": {},
     "output_type": "execute_result"
    },
    {
     "data": {
      "image/png": "[encoded data removed]",
      "text/plain": [
       "<Figure size 720x720 with 2 Axes>"
      ]
     },
     "metadata": {
      "needs_background": "light"
     },
     "output_type": "display_data"
    }
   ],
   "source": [
    "plt.figure(figsize = (10, 10))\n",
    "sns.heatmap(crime_df.corr(), annot = True)"
   ]
  },
  {
   "cell_type": "markdown",
   "metadata": {},
   "source": [
    "#### Ящик с усами\n",
    "Чтобы просмотреть, что то вроде описания выведем ящик с усами. "
   ]
  },
  {
   "cell_type": "code",
   "execution_count": 47,
   "metadata": {},
   "outputs": [
    {
     "data": {
      "text/plain": [
       "<AxesSubplot:>"
      ]
     },
     "execution_count": 47,
     "metadata": {},
     "output_type": "execute_result"
    },
    {
     "data": {
      "image/png": "[encoded data removed]",
      "text/plain": [
       "<Figure size 1080x648 with 1 Axes>"
      ]
     },
     "metadata": {
      "needs_background": "light"
     },
     "output_type": "display_data"
    }
   ],
   "source": [
    "plt.figure(figsize = (15, 9))\n",
    "sns.boxplot(data=crime_df)"
   ]
  },
  {
   "cell_type": "markdown",
   "metadata": {},
   "source": [
    "#### CountPlot\n",
    "Далее так же мы можем просмотреть частоту преступлений по годам"
   ]
  },
  {
   "cell_type": "code",
   "execution_count": 54,
   "metadata": {},
   "outputs": [
    {
     "name": "stderr",
     "output_type": "stream",
     "text": [
      "C:\\Users\\mugen\\anaconda3\\lib\\site-packages\\seaborn\\_decorators.py:36: FutureWarning: Pass the following variable as a keyword arg: x. From version 0.12, the only valid positional argument will be `data`, and passing other arguments without an explicit keyword will result in an error or misinterpretation.\n",
      "  warnings.warn(\n"
     ]
    },
    {
     "data": {
      "text/plain": [
       "<AxesSubplot:xlabel='YEAR', ylabel='count'>"
      ]
     },
     "execution_count": 54,
     "metadata": {},
     "output_type": "execute_result"
    },
    {
     "data": {
      "image/png": "[encoded data removed]",
      "text/plain": [
       "<Figure size 720x720 with 1 Axes>"
      ]
     },
     "metadata": {
      "needs_background": "light"
     },
     "output_type": "display_data"
    }
   ],
   "source": [
    "plt.figure(figsize=(10, 10))\n",
    "sns.countplot(crime_df[\"YEAR\"])"
   ]
  },
  {
   "cell_type": "markdown",
   "metadata": {},
   "source": [
    "### Итог по визуализации \n",
    "В данном подразделе были отображены данные тремя различными способами:\n",
    "- Корреляционная карта\n",
    "- Ящик с усами\n",
    "- CountPlot"
   ]
  },
  {
   "cell_type": "markdown",
   "metadata": {},
   "source": [
    "## Разбиение на тестовую и обучающую выборки"
   ]
  },
  {
   "cell_type": "markdown",
   "metadata": {},
   "source": [
    "В данной части фрейм будет разбит на тестовую и обучающую выборки."
   ]
  },
  {
   "cell_type": "code",
   "execution_count": 55,
   "metadata": {},
   "outputs": [],
   "source": [
    "x = crime_df.drop(columns=\"OFFENSE_CODE\", axis=1) # признаки\n",
    "y = crime_df[\"OFFENSE_CODE\"].values # целевая переменная"
   ]
  },
  {
   "cell_type": "code",
   "execution_count": 56,
   "metadata": {},
   "outputs": [],
   "source": [
    "from sklearn.model_selection import train_test_split\n",
    "x_train, x_test, y_train, y_test = train_test_split(x, y, train_size=0.7, test_size=0.3)"
   ]
  },
  {
   "cell_type": "code",
   "execution_count": 58,
   "metadata": {},
   "outputs": [
    {
     "name": "stdout",
     "output_type": "stream",
     "text": [
      "(223351, 11)\n"
     ]
    }
   ],
   "source": [
    "print(x_train.shape)"
   ]
  },
  {
   "cell_type": "code",
   "execution_count": 59,
   "metadata": {},
   "outputs": [
    {
     "name": "stdout",
     "output_type": "stream",
     "text": [
      "(223351,)\n"
     ]
    }
   ],
   "source": [
    "print(y_train.shape)"
   ]
  },
  {
   "cell_type": "markdown",
   "metadata": {},
   "source": [
    "### Вывод по разбиению \n",
    "В данной подчасти было создано две выборки на тренировочную и тестовую."
   ]
  },
  {
   "cell_type": "markdown",
   "metadata": {},
   "source": [
    "## Построение модели"
   ]
  },
  {
   "cell_type": "markdown",
   "metadata": {},
   "source": [
    "## Близжайшие соседи"
   ]
  },
  {
   "cell_type": "markdown",
   "metadata": {},
   "source": [
    "#### Обучение модели"
   ]
  },
  {
   "cell_type": "code",
   "execution_count": 60,
   "metadata": {},
   "outputs": [],
   "source": [
    "from sklearn.neighbors import KNeighborsClassifier\n",
    "neighbors = [3, 6, 9]\n",
    "train_results = []\n",
    "test_results = []\n",
    "for nei in neighbors:\n",
    "    kn = KNeighborsClassifier(n_jobs=-1, n_neighbors=nei)\n",
    "    kn.fit(x_train, y_train)\n",
    "    train_results.append(kn.score(x_train,y_train))\n",
    "    test_results.append(kn.score(x_test,y_test))"
   ]
  },
  {
   "cell_type": "code",
   "execution_count": 61,
   "metadata": {},
   "outputs": [
    {
     "data": {
      "text/plain": [
       "[0.4252320338838868, 0.30389834833960894, 0.2653581134626664]"
      ]
     },
     "execution_count": 61,
     "metadata": {},
     "output_type": "execute_result"
    }
   ],
   "source": [
    "train_results"
   ]
  },
  {
   "cell_type": "code",
   "execution_count": 62,
   "metadata": {},
   "outputs": [
    {
     "data": {
      "text/plain": [
       "[0.0886525563611291, 0.10036355278828274, 0.10854349052464428]"
      ]
     },
     "execution_count": 62,
     "metadata": {},
     "output_type": "execute_result"
    }
   ],
   "source": [
    "test_results"
   ]
  },
  {
   "cell_type": "code",
   "execution_count": 65,
   "metadata": {},
   "outputs": [
    {
     "name": "stdout",
     "output_type": "stream",
     "text": [
      "              precision    recall  f1-score   support\n",
      "\n",
      "         111       0.00      0.00      0.00        51\n",
      "         121       0.00      0.00      0.00         2\n",
      "         301       0.03      0.07      0.04       910\n",
      "         311       0.02      0.06      0.03       162\n",
      "         338       0.00      0.00      0.00         0\n",
      "         339       0.00      0.00      0.00         0\n",
      "         351       0.04      0.06      0.05        63\n",
      "         361       0.00      0.00      0.00       196\n",
      "         371       0.01      0.04      0.02        28\n",
      "         381       0.00      0.00      0.00        28\n",
      "         402       0.00      0.00      0.00         0\n",
      "         403       0.00      0.00      0.00         1\n",
      "         413       0.03      0.07      0.05      1456\n",
      "         423       0.01      0.02      0.02       880\n",
      "         432       0.00      0.00      0.00         1\n",
      "         511       0.00      0.00      0.00         1\n",
      "         520       0.03      0.06      0.04       718\n",
      "         521       0.02      0.02      0.02       213\n",
      "         522       0.04      0.06      0.04       741\n",
      "         527       0.00      0.00      0.00         1\n",
      "         540       0.04      0.07      0.05       286\n",
      "         541       0.00      0.00      0.00        39\n",
      "         542       0.01      0.01      0.01       103\n",
      "         547       0.00      0.00      0.00         1\n",
      "         560       0.01      0.01      0.01        72\n",
      "         561       0.00      0.00      0.00        14\n",
      "         562       0.00      0.00      0.00        55\n",
      "         611       0.02      0.02      0.02       144\n",
      "         612       0.00      0.00      0.00        68\n",
      "         613       0.29      0.69      0.41      2320\n",
      "         614       0.09      0.16      0.11      2648\n",
      "         615       0.02      0.02      0.02       613\n",
      "         616       0.04      0.05      0.04       687\n",
      "         617       0.11      0.15      0.13      2731\n",
      "         618       0.00      0.00      0.00         6\n",
      "         619       0.04      0.04      0.04      1790\n",
      "         623       0.00      0.00      0.00         1\n",
      "         624       0.00      0.00      0.00         1\n",
      "         629       0.00      0.00      0.00         1\n",
      "         633       0.00      0.00      0.00         1\n",
      "         670       0.00      0.00      0.00        23\n",
      "         706       0.01      0.01      0.01       232\n",
      "         724       0.03      0.02      0.02      1084\n",
      "         727       0.10      0.10      0.10       108\n",
      "         735       0.13      0.05      0.07       344\n",
      "         801       0.01      0.00      0.00       269\n",
      "         802       0.09      0.15      0.12      4336\n",
      "         803       0.00      0.00      0.00         1\n",
      "         804       0.00      0.00      0.00        17\n",
      "         900       0.00      0.00      0.00        18\n",
      "        1001       0.08      0.06      0.07       449\n",
      "        1002       0.00      0.00      0.00         1\n",
      "        1102       0.05      0.04      0.04      1347\n",
      "        1105       0.00      0.00      0.00         1\n",
      "        1106       0.04      0.02      0.03       933\n",
      "        1107       0.02      0.01      0.01       302\n",
      "        1108       0.00      0.00      0.00         4\n",
      "        1109       0.00      0.00      0.00       114\n",
      "        1201       0.00      0.00      0.00        84\n",
      "        1300       0.00      0.00      0.00       297\n",
      "        1304       0.00      0.00      0.00       132\n",
      "        1402       0.09      0.12      0.11      4489\n",
      "        1415       0.00      0.00      0.00        69\n",
      "        1501       0.01      0.00      0.01       277\n",
      "        1502       0.00      0.00      0.00         2\n",
      "        1503       0.01      0.00      0.01       201\n",
      "        1504       0.00      0.00      0.00        42\n",
      "        1510       0.00      0.00      0.00        58\n",
      "        1601       0.00      0.00      0.00         9\n",
      "        1602       0.47      0.43      0.45        51\n",
      "        1603       0.00      0.00      0.00         1\n",
      "        1605       0.00      0.00      0.00         4\n",
      "        1610       0.00      0.00      0.00         4\n",
      "        1805       0.00      0.00      0.00        39\n",
      "        1806       0.00      0.00      0.00        51\n",
      "        1807       0.00      0.00      0.00         2\n",
      "        1810       0.18      0.22      0.20       610\n",
      "        1815       0.00      0.00      0.00        66\n",
      "        1825       0.00      0.00      0.00        18\n",
      "        1830       0.03      0.01      0.01       362\n",
      "        1831       0.00      0.00      0.00        89\n",
      "        1832       0.00      0.00      0.00        92\n",
      "        1841       0.14      0.10      0.12       394\n",
      "        1842       0.04      0.02      0.03       450\n",
      "        1843       0.17      0.13      0.15       613\n",
      "        1844       0.00      0.00      0.00       143\n",
      "        1845       0.07      0.03      0.04       275\n",
      "        1846       0.04      0.02      0.03       169\n",
      "        1847       0.00      0.00      0.00        54\n",
      "        1848       0.02      0.00      0.01       249\n",
      "        1849       0.05      0.03      0.03       825\n",
      "        1850       0.00      0.00      0.00        54\n",
      "        1870       0.00      0.00      0.00        24\n",
      "        1874       0.25      0.24      0.25       367\n",
      "        1901       0.00      0.00      0.00         5\n",
      "        2003       0.00      0.00      0.00        68\n",
      "        2004       0.00      0.00      0.00        21\n",
      "        2005       0.09      0.01      0.02        76\n",
      "        2006       0.04      0.01      0.02        83\n",
      "        2007       0.07      0.03      0.04       418\n",
      "        2010       0.00      0.00      0.00        16\n",
      "        2101       0.00      0.00      0.00       149\n",
      "        2102       0.00      0.00      0.00        31\n",
      "        2204       0.00      0.00      0.00        68\n",
      "        2401       0.00      0.00      0.00        77\n",
      "        2403       0.14      0.06      0.08       251\n",
      "        2405       0.04      0.02      0.02       421\n",
      "        2407       0.00      0.00      0.00        39\n",
      "        2511       0.00      0.00      0.00        20\n",
      "        2604       0.00      0.00      0.00        48\n",
      "        2605       0.00      0.00      0.00         2\n",
      "        2606       0.00      0.00      0.00         1\n",
      "        2608       0.00      0.00      0.00         7\n",
      "        2609       0.00      0.00      0.00         1\n",
      "        2610       0.12      0.07      0.08      1000\n",
      "        2611       0.00      0.00      0.00         4\n",
      "        2612       0.00      0.00      0.00        47\n",
      "        2613       0.00      0.00      0.00        16\n",
      "        2616       0.00      0.00      0.00        71\n",
      "        2617       0.00      0.00      0.00         4\n",
      "        2618       0.00      0.00      0.00         3\n",
      "        2619       0.00      0.00      0.00        66\n",
      "        2622       0.00      0.00      0.00        15\n",
      "        2623       0.00      0.00      0.00        29\n",
      "        2628       0.00      0.00      0.00         7\n",
      "        2629       0.05      0.03      0.04      1210\n",
      "        2631       0.00      0.00      0.00         2\n",
      "        2632       0.00      0.00      0.00       123\n",
      "        2636       0.00      0.00      0.00         3\n",
      "        2641       0.00      0.00      0.00         6\n",
      "        2642       0.00      0.00      0.00         8\n",
      "        2646       0.32      0.36      0.34       232\n",
      "        2647       0.06      0.05      0.06      2756\n",
      "        2648       0.00      0.00      0.00        23\n",
      "        2657       0.60      0.23      0.33       110\n",
      "        2660       0.00      0.00      0.00       182\n",
      "        2662       0.02      0.01      0.01       265\n",
      "        2663       0.00      0.00      0.00        17\n",
      "        2664       0.00      0.00      0.00         2\n",
      "        2670       0.00      0.00      0.00        35\n",
      "        2900       0.02      0.01      0.01       870\n",
      "        2905       0.02      0.01      0.01       638\n",
      "        2906       0.03      0.01      0.01       322\n",
      "        2907       0.05      0.02      0.03       775\n",
      "        2910       0.00      0.00      0.00         2\n",
      "        2914       0.00      0.00      0.00       134\n",
      "        3001       0.03      0.01      0.01       346\n",
      "        3002       0.00      0.00      0.00       114\n",
      "        3004       0.00      0.00      0.00        13\n",
      "        3006       0.12      0.16      0.13      5684\n",
      "        3007       0.03      0.00      0.01       428\n",
      "        3008       0.00      0.00      0.00       115\n",
      "        3016       0.00      0.00      0.00         4\n",
      "        3018       0.08      0.05      0.06       461\n",
      "        3029       0.00      0.00      0.00         9\n",
      "        3102       0.00      0.00      0.00        62\n",
      "        3106       0.02      0.00      0.01       279\n",
      "        3108       0.02      0.00      0.00       376\n",
      "        3109       0.20      0.09      0.12       781\n",
      "        3110       0.00      0.00      0.00        49\n",
      "        3111       0.13      0.14      0.13       503\n",
      "        3112       0.03      0.01      0.02       286\n",
      "        3114       0.19      0.17      0.18      3348\n",
      "        3115       0.10      0.11      0.11      5696\n",
      "        3116       0.17      0.22      0.19        59\n",
      "        3119       0.07      0.02      0.03       194\n",
      "        3122       0.67      0.31      0.42        13\n",
      "        3123       0.00      0.00      0.00         2\n",
      "        3125       0.10      0.09      0.09      2442\n",
      "        3130       0.21      0.10      0.14       292\n",
      "        3160       0.00      0.00      0.00       143\n",
      "        3170       0.50      0.01      0.02        81\n",
      "        3201       0.08      0.05      0.06      2772\n",
      "        3202       0.00      0.00      0.00        63\n",
      "        3203       0.00      0.00      0.00         1\n",
      "        3205       0.05      0.01      0.01       147\n",
      "        3207       0.21      0.09      0.12      1158\n",
      "        3208       0.00      0.00      0.00       241\n",
      "        3301       0.13      0.16      0.14      3938\n",
      "        3302       0.00      0.00      0.00         5\n",
      "        3303       0.00      0.00      0.00        10\n",
      "        3304       0.26      0.33      0.29       177\n",
      "        3305       0.33      0.18      0.24        82\n",
      "        3402       0.00      0.00      0.00        81\n",
      "        3403       0.00      0.00      0.00         9\n",
      "        3410       0.24      0.31      0.27      3358\n",
      "        3501       0.12      0.09      0.10      1128\n",
      "        3502       0.13      0.08      0.10      1269\n",
      "        3503       0.00      0.00      0.00       173\n",
      "        3620       0.38      0.12      0.18        49\n",
      "        3625       0.00      0.00      0.00        84\n",
      "        3801       0.06      0.03      0.04       915\n",
      "        3802       0.06      0.04      0.05      1998\n",
      "        3803       0.09      0.07      0.08      1539\n",
      "        3805       0.00      0.00      0.00       239\n",
      "        3807       0.06      0.00      0.01       233\n",
      "        3810       0.05      0.01      0.02       286\n",
      "        3811       0.00      0.00      0.00       133\n",
      "        3820       0.04      0.01      0.02       491\n",
      "        3821       0.00      0.00      0.00       124\n",
      "        3830       0.00      0.00      0.00       368\n",
      "        3831       0.09      0.08      0.09      4810\n",
      "\n",
      "    accuracy                           0.11     95722\n",
      "   macro avg       0.05      0.04      0.04     95722\n",
      "weighted avg       0.10      0.11      0.10     95722\n",
      "\n"
     ]
    },
    {
     "name": "stderr",
     "output_type": "stream",
     "text": [
      "C:\\Users\\mugen\\anaconda3\\lib\\site-packages\\sklearn\\metrics\\_classification.py:1221: UndefinedMetricWarning: Precision and F-score are ill-defined and being set to 0.0 in labels with no predicted samples. Use `zero_division` parameter to control this behavior.\n",
      "  _warn_prf(average, modifier, msg_start, len(result))\n",
      "C:\\Users\\mugen\\anaconda3\\lib\\site-packages\\sklearn\\metrics\\_classification.py:1221: UndefinedMetricWarning: Recall and F-score are ill-defined and being set to 0.0 in labels with no true samples. Use `zero_division` parameter to control this behavior.\n",
      "  _warn_prf(average, modifier, msg_start, len(result))\n"
     ]
    }
   ],
   "source": [
    "from sklearn.metrics import classification_report\n",
    "print(classification_report(y_test, kn.predict(x_test)))"
   ]
  },
  {
   "cell_type": "markdown",
   "metadata": {},
   "source": [
    "#### Предсказание"
   ]
  },
  {
   "cell_type": "code",
   "execution_count": 67,
   "metadata": {},
   "outputs": [],
   "source": [
    "import numpy as np\n",
    "to_preds = np.array([[9, 60, 1, 2018, 9, 1, 21, 3, 2073, 42.306821, -71.060300]])\n",
    "kn_preds_point = kn.predict(to_preds)"
   ]
  },
  {
   "cell_type": "code",
   "execution_count": 68,
   "metadata": {},
   "outputs": [
    {
     "data": {
      "text/plain": [
       "array([3831], dtype=int64)"
      ]
     },
     "execution_count": 68,
     "metadata": {},
     "output_type": "execute_result"
    }
   ],
   "source": [
    "kn_preds_point"
   ]
  },
  {
   "cell_type": "markdown",
   "metadata": {},
   "source": [
    "### Вывод по построению модели\n",
    "В данной подчасти была построена модель \"Близжайшихх соседей\". Обучена и простестирована, а так же было сделанно пробное предсказание."
   ]
  },
  {
   "cell_type": "markdown",
   "metadata": {},
   "source": [
    "# Заключение \n",
    "За данную работу была построенна модель машинного обучения. До этого данные были предобработаны визуализированны и разбиты на тестовую и обучающую выборки."
   ]
  },
  {
   "cell_type": "code",
   "execution_count": null,
   "metadata": {},
   "outputs": [],
   "source": []
  }
 ],
 "metadata": {
  "kernelspec": {
   "display_name": "Python 3",
   "language": "python",
   "name": "python3"
  },
  "language_info": {
   "codemirror_mode": {
    "name": "ipython",
    "version": 3
   },
   "file_extension": ".py",
   "mimetype": "text/x-python",
   "name": "python",
   "nbconvert_exporter": "python",
   "pygments_lexer": "ipython3",
   "version": "3.8.5"
  }
 },
 "nbformat": 4,
 "nbformat_minor": 4
}
